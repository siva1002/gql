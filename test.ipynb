{
 "cells": [
  {
   "cell_type": "code",
   "execution_count": 3,
   "metadata": {},
   "outputs": [
    {
     "name": "stdout",
     "output_type": "stream",
     "text": [
      "[1, 1, 1, 1, 1, 1, 1, 6, 7, 7]\n"
     ]
    }
   ],
   "source": [
    "class Solution:\n",
    "    def maxLength(self,s): \n",
    "        # code here\n",
    "        arrlen=len(s)\n",
    "        dp=[1]*arrlen\n",
    "        for i in range(1,arrlen):\n",
    "            c=1\n",
    "            for k in range(0,i):\n",
    "                if s[i] > s[k]:\n",
    "                    c+=1\n",
    "                else:\n",
    "                    dp[i]=c\n",
    "        print(dp)\n",
    "\n",
    "\n",
    "s=Solution()\n",
    "s.maxLength('abcdapzfqh')"
   ]
  },
  {
   "cell_type": "code",
   "execution_count": 4,
   "metadata": {},
   "outputs": [
    {
     "name": "stdout",
     "output_type": "stream",
     "text": [
      "{0: 1, 1: 3, 2: 2}\n",
      "0\n"
     ]
    }
   ],
   "source": [
    "a=[[0,1],[1,2],[1,2]]\n",
    "graph={}\n",
    "for points in a:\n",
    "    if points[0] in graph:\n",
    "        graph[points[0]]+=1\n",
    "    else:\n",
    "        graph[points[0]]=1\n",
    "    if points[1] in graph:\n",
    "        graph[points[1]]+=1\n",
    "    else:\n",
    "        graph[points[1]]=1\n",
    "print(graph)\n",
    "print(sum(graph.values())%2)\n"
   ]
  },
  {
   "cell_type": "code",
   "execution_count": 17,
   "metadata": {},
   "outputs": [
    {
     "name": "stdout",
     "output_type": "stream",
     "text": [
      "{'A'}\n"
     ]
    }
   ],
   "source": [
    "s1={\"A\",\"C\"}\n",
    "s2={\"A\",\"B\"}\n",
    "\n",
    "print(s2.intersection(s1))"
   ]
  }
 ],
 "metadata": {
  "kernelspec": {
   "display_name": "venv",
   "language": "python",
   "name": "python3"
  },
  "language_info": {
   "codemirror_mode": {
    "name": "ipython",
    "version": 3
   },
   "file_extension": ".py",
   "mimetype": "text/x-python",
   "name": "python",
   "nbconvert_exporter": "python",
   "pygments_lexer": "ipython3",
   "version": "3.12.9"
  }
 },
 "nbformat": 4,
 "nbformat_minor": 2
}
